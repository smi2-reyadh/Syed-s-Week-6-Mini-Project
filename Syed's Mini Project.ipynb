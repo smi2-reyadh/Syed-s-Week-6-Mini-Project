{
 "cells": [
  {
   "cell_type": "code",
   "execution_count": 1,
   "metadata": {
    "collapsed": true
   },
   "outputs": [],
   "source": [
    "import pandas as pd\n",
    "import numpy as np\n",
    "import random\n",
    "import matplotlib.pyplot as plt\n",
    "from matplotlib.ticker import FuncFormatter"
   ]
  },
  {
   "cell_type": "code",
   "execution_count": 2,
   "metadata": {},
   "outputs": [
    {
     "data": {
      "text/plain": [
       "(5656458, 6)"
      ]
     },
     "execution_count": 2,
     "metadata": {},
     "output_type": "execute_result"
    }
   ],
   "source": [
    "data = pd.read_csv('~/EdX-Data-Scientist-Education/UCSanDiegoX-DSE200x-Python-for-Data-Science/Week-5-Data-Visualization/world-development-indicators/Indicators.csv')\n",
    "data.shape"
   ]
  },
  {
   "cell_type": "code",
   "execution_count": 3,
   "metadata": {},
   "outputs": [
    {
     "data": {
      "text/html": [
       "<div>\n",
       "<style>\n",
       "    .dataframe thead tr:only-child th {\n",
       "        text-align: right;\n",
       "    }\n",
       "\n",
       "    .dataframe thead th {\n",
       "        text-align: left;\n",
       "    }\n",
       "\n",
       "    .dataframe tbody tr th {\n",
       "        vertical-align: top;\n",
       "    }\n",
       "</style>\n",
       "<table border=\"1\" class=\"dataframe\">\n",
       "  <thead>\n",
       "    <tr style=\"text-align: right;\">\n",
       "      <th></th>\n",
       "      <th>CountryName</th>\n",
       "      <th>CountryCode</th>\n",
       "      <th>IndicatorName</th>\n",
       "      <th>IndicatorCode</th>\n",
       "      <th>Year</th>\n",
       "      <th>Value</th>\n",
       "    </tr>\n",
       "  </thead>\n",
       "  <tbody>\n",
       "    <tr>\n",
       "      <th>0</th>\n",
       "      <td>Arab World</td>\n",
       "      <td>ARB</td>\n",
       "      <td>Adolescent fertility rate (births per 1,000 wo...</td>\n",
       "      <td>SP.ADO.TFRT</td>\n",
       "      <td>1960</td>\n",
       "      <td>1.335609e+02</td>\n",
       "    </tr>\n",
       "    <tr>\n",
       "      <th>1</th>\n",
       "      <td>Arab World</td>\n",
       "      <td>ARB</td>\n",
       "      <td>Age dependency ratio (% of working-age populat...</td>\n",
       "      <td>SP.POP.DPND</td>\n",
       "      <td>1960</td>\n",
       "      <td>8.779760e+01</td>\n",
       "    </tr>\n",
       "    <tr>\n",
       "      <th>2</th>\n",
       "      <td>Arab World</td>\n",
       "      <td>ARB</td>\n",
       "      <td>Age dependency ratio, old (% of working-age po...</td>\n",
       "      <td>SP.POP.DPND.OL</td>\n",
       "      <td>1960</td>\n",
       "      <td>6.634579e+00</td>\n",
       "    </tr>\n",
       "    <tr>\n",
       "      <th>3</th>\n",
       "      <td>Arab World</td>\n",
       "      <td>ARB</td>\n",
       "      <td>Age dependency ratio, young (% of working-age ...</td>\n",
       "      <td>SP.POP.DPND.YG</td>\n",
       "      <td>1960</td>\n",
       "      <td>8.102333e+01</td>\n",
       "    </tr>\n",
       "    <tr>\n",
       "      <th>4</th>\n",
       "      <td>Arab World</td>\n",
       "      <td>ARB</td>\n",
       "      <td>Arms exports (SIPRI trend indicator values)</td>\n",
       "      <td>MS.MIL.XPRT.KD</td>\n",
       "      <td>1960</td>\n",
       "      <td>3.000000e+06</td>\n",
       "    </tr>\n",
       "    <tr>\n",
       "      <th>5</th>\n",
       "      <td>Arab World</td>\n",
       "      <td>ARB</td>\n",
       "      <td>Arms imports (SIPRI trend indicator values)</td>\n",
       "      <td>MS.MIL.MPRT.KD</td>\n",
       "      <td>1960</td>\n",
       "      <td>5.380000e+08</td>\n",
       "    </tr>\n",
       "    <tr>\n",
       "      <th>6</th>\n",
       "      <td>Arab World</td>\n",
       "      <td>ARB</td>\n",
       "      <td>Birth rate, crude (per 1,000 people)</td>\n",
       "      <td>SP.DYN.CBRT.IN</td>\n",
       "      <td>1960</td>\n",
       "      <td>4.769789e+01</td>\n",
       "    </tr>\n",
       "    <tr>\n",
       "      <th>7</th>\n",
       "      <td>Arab World</td>\n",
       "      <td>ARB</td>\n",
       "      <td>CO2 emissions (kt)</td>\n",
       "      <td>EN.ATM.CO2E.KT</td>\n",
       "      <td>1960</td>\n",
       "      <td>5.956399e+04</td>\n",
       "    </tr>\n",
       "    <tr>\n",
       "      <th>8</th>\n",
       "      <td>Arab World</td>\n",
       "      <td>ARB</td>\n",
       "      <td>CO2 emissions (metric tons per capita)</td>\n",
       "      <td>EN.ATM.CO2E.PC</td>\n",
       "      <td>1960</td>\n",
       "      <td>6.439635e-01</td>\n",
       "    </tr>\n",
       "    <tr>\n",
       "      <th>9</th>\n",
       "      <td>Arab World</td>\n",
       "      <td>ARB</td>\n",
       "      <td>CO2 emissions from gaseous fuel consumption (%...</td>\n",
       "      <td>EN.ATM.CO2E.GF.ZS</td>\n",
       "      <td>1960</td>\n",
       "      <td>5.041292e+00</td>\n",
       "    </tr>\n",
       "  </tbody>\n",
       "</table>\n",
       "</div>"
      ],
      "text/plain": [
       "  CountryName CountryCode                                      IndicatorName  \\\n",
       "0  Arab World         ARB  Adolescent fertility rate (births per 1,000 wo...   \n",
       "1  Arab World         ARB  Age dependency ratio (% of working-age populat...   \n",
       "2  Arab World         ARB  Age dependency ratio, old (% of working-age po...   \n",
       "3  Arab World         ARB  Age dependency ratio, young (% of working-age ...   \n",
       "4  Arab World         ARB        Arms exports (SIPRI trend indicator values)   \n",
       "5  Arab World         ARB        Arms imports (SIPRI trend indicator values)   \n",
       "6  Arab World         ARB               Birth rate, crude (per 1,000 people)   \n",
       "7  Arab World         ARB                                 CO2 emissions (kt)   \n",
       "8  Arab World         ARB             CO2 emissions (metric tons per capita)   \n",
       "9  Arab World         ARB  CO2 emissions from gaseous fuel consumption (%...   \n",
       "\n",
       "       IndicatorCode  Year         Value  \n",
       "0        SP.ADO.TFRT  1960  1.335609e+02  \n",
       "1        SP.POP.DPND  1960  8.779760e+01  \n",
       "2     SP.POP.DPND.OL  1960  6.634579e+00  \n",
       "3     SP.POP.DPND.YG  1960  8.102333e+01  \n",
       "4     MS.MIL.XPRT.KD  1960  3.000000e+06  \n",
       "5     MS.MIL.MPRT.KD  1960  5.380000e+08  \n",
       "6     SP.DYN.CBRT.IN  1960  4.769789e+01  \n",
       "7     EN.ATM.CO2E.KT  1960  5.956399e+04  \n",
       "8     EN.ATM.CO2E.PC  1960  6.439635e-01  \n",
       "9  EN.ATM.CO2E.GF.ZS  1960  5.041292e+00  "
      ]
     },
     "execution_count": 3,
     "metadata": {},
     "output_type": "execute_result"
    }
   ],
   "source": [
    "data.head(10)"
   ]
  },
  {
   "cell_type": "markdown",
   "metadata": {},
   "source": [
    "## What is the range of years?"
   ]
  },
  {
   "cell_type": "code",
   "execution_count": 4,
   "metadata": {},
   "outputs": [
    {
     "name": "stdout",
     "output_type": "stream",
     "text": [
      "1960 - 2015\n"
     ]
    }
   ],
   "source": [
    "years = data['Year'].unique().tolist()\n",
    "print(min(years), '-',max(years))"
   ]
  },
  {
   "cell_type": "markdown",
   "metadata": {},
   "source": [
    "## What are the unique Country names and codes, and how many are there?"
   ]
  },
  {
   "cell_type": "code",
   "execution_count": 5,
   "metadata": {},
   "outputs": [
    {
     "name": "stdout",
     "output_type": "stream",
     "text": [
      "['Arab World', 'Caribbean small states', 'Central Europe and the Baltics', 'East Asia & Pacific (all income levels)', 'East Asia & Pacific (developing only)', 'Euro area', 'Europe & Central Asia (all income levels)', 'Europe & Central Asia (developing only)', 'European Union', 'Fragile and conflict affected situations', 'Heavily indebted poor countries (HIPC)', 'High income', 'High income: nonOECD', 'High income: OECD', 'Latin America & Caribbean (all income levels)', 'Latin America & Caribbean (developing only)', 'Least developed countries: UN classification', 'Low & middle income', 'Low income', 'Lower middle income', 'Middle East & North Africa (all income levels)', 'Middle East & North Africa (developing only)', 'Middle income', 'North America', 'OECD members', 'Other small states', 'Pacific island small states', 'Small states', 'South Asia', 'Sub-Saharan Africa (all income levels)', 'Sub-Saharan Africa (developing only)', 'Upper middle income', 'World', 'Afghanistan', 'Albania', 'Algeria', 'American Samoa', 'Andorra', 'Angola', 'Antigua and Barbuda', 'Argentina', 'Armenia', 'Aruba', 'Australia', 'Austria', 'Azerbaijan', 'Bahamas, The', 'Bahrain', 'Bangladesh', 'Barbados', 'Belarus', 'Belgium', 'Belize', 'Benin', 'Bermuda', 'Bhutan', 'Bolivia', 'Bosnia and Herzegovina', 'Botswana', 'Brazil', 'Brunei Darussalam', 'Bulgaria', 'Burkina Faso', 'Burundi', 'Cabo Verde', 'Cambodia', 'Cameroon', 'Canada', 'Cayman Islands', 'Central African Republic', 'Chad', 'Channel Islands', 'Chile', 'China', 'Colombia', 'Comoros', 'Congo, Dem. Rep.', 'Congo, Rep.', 'Costa Rica', \"Cote d'Ivoire\", 'Croatia', 'Cuba', 'Curacao', 'Cyprus', 'Czech Republic', 'Denmark', 'Djibouti', 'Dominica', 'Dominican Republic', 'Ecuador', 'Egypt, Arab Rep.', 'El Salvador', 'Equatorial Guinea', 'Eritrea', 'Estonia', 'Ethiopia', 'Faeroe Islands', 'Fiji', 'Finland', 'France', 'French Polynesia', 'Gabon', 'Gambia, The', 'Georgia', 'Germany', 'Ghana', 'Greece', 'Greenland', 'Grenada', 'Guam', 'Guatemala', 'Guinea', 'Guinea-Bissau', 'Guyana', 'Haiti', 'Honduras', 'Hong Kong SAR, China', 'Hungary', 'Iceland', 'India', 'Indonesia', 'Iran, Islamic Rep.', 'Iraq', 'Ireland', 'Isle of Man', 'Israel', 'Italy', 'Jamaica', 'Japan', 'Jordan', 'Kazakhstan', 'Kenya', 'Kiribati', 'Korea, Dem. Rep.', 'Korea, Rep.', 'Kosovo', 'Kuwait', 'Kyrgyz Republic', 'Lao PDR', 'Latvia', 'Lebanon', 'Lesotho', 'Liberia', 'Libya', 'Liechtenstein', 'Lithuania', 'Luxembourg', 'Macao SAR, China', 'Macedonia, FYR', 'Madagascar', 'Malawi', 'Malaysia', 'Maldives', 'Mali', 'Malta', 'Marshall Islands', 'Mauritania', 'Mauritius', 'Mexico', 'Micronesia, Fed. Sts.', 'Moldova', 'Monaco', 'Mongolia', 'Montenegro', 'Morocco', 'Mozambique', 'Myanmar', 'Namibia', 'Nepal', 'Netherlands', 'New Caledonia', 'New Zealand', 'Nicaragua', 'Niger', 'Nigeria', 'Northern Mariana Islands', 'Norway', 'Oman', 'Pakistan', 'Palau', 'Panama', 'Papua New Guinea', 'Paraguay', 'Peru', 'Philippines', 'Poland', 'Portugal', 'Puerto Rico', 'Qatar', 'Romania', 'Russian Federation', 'Rwanda', 'Samoa', 'San Marino', 'Sao Tome and Principe', 'Saudi Arabia', 'Senegal', 'Serbia', 'Seychelles', 'Sierra Leone', 'Singapore', 'Sint Maarten (Dutch part)', 'Slovak Republic', 'Slovenia', 'Solomon Islands', 'Somalia', 'South Africa', 'South Sudan', 'Spain', 'Sri Lanka', 'St. Kitts and Nevis', 'St. Lucia', 'St. Martin (French part)', 'St. Vincent and the Grenadines', 'Sudan', 'Suriname', 'Swaziland', 'Sweden', 'Switzerland', 'Syrian Arab Republic', 'Tajikistan', 'Tanzania', 'Thailand', 'Timor-Leste', 'Togo', 'Tonga', 'Trinidad and Tobago', 'Tunisia', 'Turkey', 'Turkmenistan', 'Turks and Caicos Islands', 'Tuvalu', 'Uganda', 'Ukraine', 'United Arab Emirates', 'United Kingdom', 'United States', 'Uruguay', 'Uzbekistan', 'Vanuatu', 'Venezuela, RB', 'Vietnam', 'Virgin Islands (U.S.)', 'West Bank and Gaza', 'Yemen, Rep.', 'Zambia', 'Zimbabwe'] ['ARB', 'CSS', 'CEB', 'EAS', 'EAP', 'EMU', 'ECS', 'ECA', 'EUU', 'FCS', 'HPC', 'HIC', 'NOC', 'OEC', 'LCN', 'LAC', 'LDC', 'LMY', 'LIC', 'LMC', 'MEA', 'MNA', 'MIC', 'NAC', 'OED', 'OSS', 'PSS', 'SST', 'SAS', 'SSF', 'SSA', 'UMC', 'WLD', 'AFG', 'ALB', 'DZA', 'ASM', 'ADO', 'AGO', 'ATG', 'ARG', 'ARM', 'ABW', 'AUS', 'AUT', 'AZE', 'BHS', 'BHR', 'BGD', 'BRB', 'BLR', 'BEL', 'BLZ', 'BEN', 'BMU', 'BTN', 'BOL', 'BIH', 'BWA', 'BRA', 'BRN', 'BGR', 'BFA', 'BDI', 'CPV', 'KHM', 'CMR', 'CAN', 'CYM', 'CAF', 'TCD', 'CHI', 'CHL', 'CHN', 'COL', 'COM', 'ZAR', 'COG', 'CRI', 'CIV', 'HRV', 'CUB', 'CUW', 'CYP', 'CZE', 'DNK', 'DJI', 'DMA', 'DOM', 'ECU', 'EGY', 'SLV', 'GNQ', 'ERI', 'EST', 'ETH', 'FRO', 'FJI', 'FIN', 'FRA', 'PYF', 'GAB', 'GMB', 'GEO', 'DEU', 'GHA', 'GRC', 'GRL', 'GRD', 'GUM', 'GTM', 'GIN', 'GNB', 'GUY', 'HTI', 'HND', 'HKG', 'HUN', 'ISL', 'IND', 'IDN', 'IRN', 'IRQ', 'IRL', 'IMY', 'ISR', 'ITA', 'JAM', 'JPN', 'JOR', 'KAZ', 'KEN', 'KIR', 'PRK', 'KOR', 'KSV', 'KWT', 'KGZ', 'LAO', 'LVA', 'LBN', 'LSO', 'LBR', 'LBY', 'LIE', 'LTU', 'LUX', 'MAC', 'MKD', 'MDG', 'MWI', 'MYS', 'MDV', 'MLI', 'MLT', 'MHL', 'MRT', 'MUS', 'MEX', 'FSM', 'MDA', 'MCO', 'MNG', 'MNE', 'MAR', 'MOZ', 'MMR', 'NAM', 'NPL', 'NLD', 'NCL', 'NZL', 'NIC', 'NER', 'NGA', 'MNP', 'NOR', 'OMN', 'PAK', 'PLW', 'PAN', 'PNG', 'PRY', 'PER', 'PHL', 'POL', 'PRT', 'PRI', 'QAT', 'ROM', 'RUS', 'RWA', 'WSM', 'SMR', 'STP', 'SAU', 'SEN', 'SRB', 'SYC', 'SLE', 'SGP', 'SXM', 'SVK', 'SVN', 'SLB', 'SOM', 'ZAF', 'SSD', 'ESP', 'LKA', 'KNA', 'LCA', 'MAF', 'VCT', 'SDN', 'SUR', 'SWZ', 'SWE', 'CHE', 'SYR', 'TJK', 'TZA', 'THA', 'TMP', 'TGO', 'TON', 'TTO', 'TUN', 'TUR', 'TKM', 'TCA', 'TUV', 'UGA', 'UKR', 'ARE', 'GBR', 'USA', 'URY', 'UZB', 'VUT', 'VEN', 'VNM', 'VIR', 'WBG', 'YEM', 'ZMB', 'ZWE'] 247 247\n"
     ]
    }
   ],
   "source": [
    "# List unique countries and the count or length of list\n",
    "countries = data['CountryName'].unique().tolist()\n",
    "countryCode = data['CountryCode'].unique().tolist()\n",
    "\n",
    "\n",
    "print(countries, countryCode, len(countries), len(countryCode))"
   ]
  },
  {
   "cell_type": "markdown",
   "metadata": {},
   "source": [
    "## Checking for null values"
   ]
  },
  {
   "cell_type": "code",
   "execution_count": 6,
   "metadata": {},
   "outputs": [
    {
     "data": {
      "text/plain": [
       "CountryName      False\n",
       "CountryCode      False\n",
       "IndicatorName    False\n",
       "IndicatorCode    False\n",
       "Year             False\n",
       "Value            False\n",
       "dtype: bool"
      ]
     },
     "execution_count": 6,
     "metadata": {},
     "output_type": "execute_result"
    }
   ],
   "source": [
    "data.isnull().any()"
   ]
  },
  {
   "cell_type": "markdown",
   "metadata": {},
   "source": [
    "## Value Statistics - use to evaluate overall country exports from 1980 - 2015"
   ]
  },
  {
   "cell_type": "code",
   "execution_count": 7,
   "metadata": {},
   "outputs": [
    {
     "data": {
      "text/plain": [
       "count    5.656458e+06\n",
       "mean     1.070501e+12\n",
       "std      4.842469e+13\n",
       "min     -9.824821e+15\n",
       "25%      5.566242e+00\n",
       "50%      6.357450e+01\n",
       "75%      1.346722e+07\n",
       "max      1.103367e+16\n",
       "Name: Value, dtype: float64"
      ]
     },
     "execution_count": 7,
     "metadata": {},
     "output_type": "execute_result"
    }
   ],
   "source": [
    "data['Value'].describe()"
   ]
  },
  {
   "cell_type": "code",
   "execution_count": 8,
   "metadata": {},
   "outputs": [
    {
     "data": {
      "text/plain": [
       "Year     1.387895e+01\n",
       "Value    4.842469e+13\n",
       "dtype: float64"
      ]
     },
     "execution_count": 8,
     "metadata": {},
     "output_type": "execute_result"
    }
   ],
   "source": [
    "data.std(axis=0)"
   ]
  },
  {
   "cell_type": "code",
   "execution_count": 9,
   "metadata": {},
   "outputs": [
    {
     "data": {
      "text/plain": [
       "5656458"
      ]
     },
     "execution_count": 9,
     "metadata": {},
     "output_type": "execute_result"
    }
   ],
   "source": [
    "data['CountryName'].count()"
   ]
  },
  {
   "cell_type": "markdown",
   "metadata": {},
   "source": [
    "## Most common value in column 'Value'"
   ]
  },
  {
   "cell_type": "code",
   "execution_count": 10,
   "metadata": {},
   "outputs": [
    {
     "data": {
      "text/plain": [
       "0    0.0\n",
       "dtype: float64"
      ]
     },
     "execution_count": 10,
     "metadata": {},
     "output_type": "execute_result"
    }
   ],
   "source": [
    "data['Value'].mode()"
   ]
  },
  {
   "cell_type": "markdown",
   "metadata": {},
   "source": [
    "## Lowest value in column 'Value'"
   ]
  },
  {
   "cell_type": "code",
   "execution_count": 11,
   "metadata": {},
   "outputs": [
    {
     "data": {
      "text/plain": [
       "-9824821297572060.0"
      ]
     },
     "execution_count": 11,
     "metadata": {},
     "output_type": "execute_result"
    }
   ],
   "source": [
    "data['Value'].min()"
   ]
  },
  {
   "cell_type": "markdown",
   "metadata": {},
   "source": [
    "## Highest value in column 'Value'"
   ]
  },
  {
   "cell_type": "code",
   "execution_count": 12,
   "metadata": {},
   "outputs": [
    {
     "data": {
      "text/plain": [
       "11033666000000000.0"
      ]
     },
     "execution_count": 12,
     "metadata": {},
     "output_type": "execute_result"
    }
   ],
   "source": [
    "data['Value'].max()"
   ]
  },
  {
   "cell_type": "markdown",
   "metadata": {},
   "source": [
    "## Remove Unwanted CountryCode rows"
   ]
  },
  {
   "cell_type": "markdown",
   "metadata": {},
   "source": [
    "### Find grouped countries via the country code"
   ]
  },
  {
   "cell_type": "code",
   "execution_count": 13,
   "metadata": {},
   "outputs": [
    {
     "data": {
      "text/plain": [
       "Index(['CountryName', 'CountryCode', 'IndicatorName', 'IndicatorCode', 'Year',\n",
       "       'Value'],\n",
       "      dtype='object')"
      ]
     },
     "execution_count": 13,
     "metadata": {},
     "output_type": "execute_result"
    }
   ],
   "source": [
    "data.columns"
   ]
  },
  {
   "cell_type": "code",
   "execution_count": 14,
   "metadata": {
    "collapsed": true
   },
   "outputs": [],
   "source": [
    "data.set_index('CountryCode', inplace=True, drop=False)"
   ]
  },
  {
   "cell_type": "code",
   "execution_count": 15,
   "metadata": {
    "collapsed": true
   },
   "outputs": [],
   "source": [
    "data = data.drop(['HIC', 'OEC', 'OED', 'NOC', 'CEB', 'EAP', 'EMU', 'ECS', 'ECA', 'EUU', 'LCN', 'FCS', 'LAC', 'LMY', 'MEA', 'MNA', 'MIC', 'NAC', 'SSF', 'UMC', 'SSA', 'LMC', 'EAS', 'HPC', 'LDC', 'LIC'], axis=0)\n",
    "#data.head(10)"
   ]
  },
  {
   "cell_type": "code",
   "execution_count": 16,
   "metadata": {
    "collapsed": true
   },
   "outputs": [],
   "source": [
    "data = data.reset_index(drop=True)"
   ]
  },
  {
   "cell_type": "code",
   "execution_count": 17,
   "metadata": {},
   "outputs": [
    {
     "data": {
      "text/plain": [
       "(5059963, 6)"
      ]
     },
     "execution_count": 17,
     "metadata": {},
     "output_type": "execute_result"
    }
   ],
   "source": [
    "data.shape"
   ]
  },
  {
   "cell_type": "markdown",
   "metadata": {},
   "source": [
    "## Select Arms Exports from all countries"
   ]
  },
  {
   "cell_type": "code",
   "execution_count": 99,
   "metadata": {
    "collapsed": true
   },
   "outputs": [],
   "source": [
    "# Data selected: Arms exports\n",
    "arms_stage = data[data['IndicatorName'].str.contains('Arms exports \\(SIPRI')]"
   ]
  },
  {
   "cell_type": "code",
   "execution_count": 100,
   "metadata": {},
   "outputs": [
    {
     "data": {
      "text/plain": [
       "(2024, 6)"
      ]
     },
     "execution_count": 100,
     "metadata": {},
     "output_type": "execute_result"
    }
   ],
   "source": [
    "arms_stage.shape"
   ]
  },
  {
   "cell_type": "code",
   "execution_count": 101,
   "metadata": {},
   "outputs": [
    {
     "data": {
      "text/html": [
       "<div>\n",
       "<style>\n",
       "    .dataframe thead tr:only-child th {\n",
       "        text-align: right;\n",
       "    }\n",
       "\n",
       "    .dataframe thead th {\n",
       "        text-align: left;\n",
       "    }\n",
       "\n",
       "    .dataframe tbody tr th {\n",
       "        vertical-align: top;\n",
       "    }\n",
       "</style>\n",
       "<table border=\"1\" class=\"dataframe\">\n",
       "  <thead>\n",
       "    <tr style=\"text-align: right;\">\n",
       "      <th></th>\n",
       "      <th>CountryName</th>\n",
       "      <th>CountryCode</th>\n",
       "      <th>IndicatorName</th>\n",
       "      <th>IndicatorCode</th>\n",
       "      <th>Year</th>\n",
       "      <th>Value</th>\n",
       "    </tr>\n",
       "  </thead>\n",
       "  <tbody>\n",
       "    <tr>\n",
       "      <th>4664484</th>\n",
       "      <td>United States</td>\n",
       "      <td>USA</td>\n",
       "      <td>Arms exports (SIPRI trend indicator values)</td>\n",
       "      <td>MS.MIL.XPRT.KD</td>\n",
       "      <td>2014</td>\n",
       "      <td>1.019400e+10</td>\n",
       "    </tr>\n",
       "    <tr>\n",
       "      <th>4606252</th>\n",
       "      <td>Russian Federation</td>\n",
       "      <td>RUS</td>\n",
       "      <td>Arms exports (SIPRI trend indicator values)</td>\n",
       "      <td>MS.MIL.XPRT.KD</td>\n",
       "      <td>2014</td>\n",
       "      <td>5.971000e+09</td>\n",
       "    </tr>\n",
       "    <tr>\n",
       "      <th>4472579</th>\n",
       "      <td>France</td>\n",
       "      <td>FRA</td>\n",
       "      <td>Arms exports (SIPRI trend indicator values)</td>\n",
       "      <td>MS.MIL.XPRT.KD</td>\n",
       "      <td>2014</td>\n",
       "      <td>1.978000e+09</td>\n",
       "    </tr>\n",
       "    <tr>\n",
       "      <th>4453682</th>\n",
       "      <td>United Kingdom</td>\n",
       "      <td>GBR</td>\n",
       "      <td>Arms exports (SIPRI trend indicator values)</td>\n",
       "      <td>MS.MIL.XPRT.KD</td>\n",
       "      <td>2014</td>\n",
       "      <td>1.704000e+09</td>\n",
       "    </tr>\n",
       "    <tr>\n",
       "      <th>4408557</th>\n",
       "      <td>Germany</td>\n",
       "      <td>DEU</td>\n",
       "      <td>Arms exports (SIPRI trend indicator values)</td>\n",
       "      <td>MS.MIL.XPRT.KD</td>\n",
       "      <td>2014</td>\n",
       "      <td>1.200000e+09</td>\n",
       "    </tr>\n",
       "  </tbody>\n",
       "</table>\n",
       "</div>"
      ],
      "text/plain": [
       "                CountryName CountryCode  \\\n",
       "4664484       United States         USA   \n",
       "4606252  Russian Federation         RUS   \n",
       "4472579              France         FRA   \n",
       "4453682      United Kingdom         GBR   \n",
       "4408557             Germany         DEU   \n",
       "\n",
       "                                       IndicatorName   IndicatorCode  Year  \\\n",
       "4664484  Arms exports (SIPRI trend indicator values)  MS.MIL.XPRT.KD  2014   \n",
       "4606252  Arms exports (SIPRI trend indicator values)  MS.MIL.XPRT.KD  2014   \n",
       "4472579  Arms exports (SIPRI trend indicator values)  MS.MIL.XPRT.KD  2014   \n",
       "4453682  Arms exports (SIPRI trend indicator values)  MS.MIL.XPRT.KD  2014   \n",
       "4408557  Arms exports (SIPRI trend indicator values)  MS.MIL.XPRT.KD  2014   \n",
       "\n",
       "                Value  \n",
       "4664484  1.019400e+10  \n",
       "4606252  5.971000e+09  \n",
       "4472579  1.978000e+09  \n",
       "4453682  1.704000e+09  \n",
       "4408557  1.200000e+09  "
      ]
     },
     "execution_count": 101,
     "metadata": {},
     "output_type": "execute_result"
    }
   ],
   "source": [
    "arms_stage.head()"
   ]
  },
  {
   "cell_type": "markdown",
   "metadata": {},
   "source": [
    "## Filter for yearly USA exports"
   ]
  },
  {
   "cell_type": "code",
   "execution_count": 95,
   "metadata": {
    "collapsed": true
   },
   "outputs": [],
   "source": [
    "# select Arms export for the World\n",
    "hist_indicator = 'Arms exports \\(SIPRI'\n",
    "hist_year = 2014\n",
    "hist_country = 'USA'\n",
    "\n",
    "mask1 = data['IndicatorName'].str.contains(hist_indicator) \n",
    "#mask2 = data['Year'].isin([hist_year])\n",
    "mask2 = data['Year'].between(1960, 1980)\n",
    "mask3 = data['CountryCode'].str.contains(hist_country)\n",
    "\n",
    "\n",
    "# stage is just those indicators matching the 1980 for year and Arms export over time.\n",
    "usa_stage = data[mask1 & mask3]\n",
    "usa_67 = data[mask1 & mask2 & mask3]"
   ]
  },
  {
   "cell_type": "code",
   "execution_count": 96,
   "metadata": {},
   "outputs": [
    {
     "data": {
      "text/html": [
       "<div>\n",
       "<style>\n",
       "    .dataframe thead tr:only-child th {\n",
       "        text-align: right;\n",
       "    }\n",
       "\n",
       "    .dataframe thead th {\n",
       "        text-align: left;\n",
       "    }\n",
       "\n",
       "    .dataframe tbody tr th {\n",
       "        vertical-align: top;\n",
       "    }\n",
       "</style>\n",
       "<table border=\"1\" class=\"dataframe\">\n",
       "  <thead>\n",
       "    <tr style=\"text-align: right;\">\n",
       "      <th></th>\n",
       "      <th>CountryName</th>\n",
       "      <th>CountryCode</th>\n",
       "      <th>IndicatorName</th>\n",
       "      <th>IndicatorCode</th>\n",
       "      <th>Year</th>\n",
       "      <th>Value</th>\n",
       "    </tr>\n",
       "  </thead>\n",
       "  <tbody>\n",
       "    <tr>\n",
       "      <th>4664484</th>\n",
       "      <td>United States</td>\n",
       "      <td>USA</td>\n",
       "      <td>Arms exports (SIPRI trend indicator values)</td>\n",
       "      <td>MS.MIL.XPRT.KD</td>\n",
       "      <td>2014</td>\n",
       "      <td>1.019400e+10</td>\n",
       "    </tr>\n",
       "    <tr>\n",
       "      <th>4629943</th>\n",
       "      <td>United States</td>\n",
       "      <td>USA</td>\n",
       "      <td>Arms exports (SIPRI trend indicator values)</td>\n",
       "      <td>MS.MIL.XPRT.KD</td>\n",
       "      <td>2013</td>\n",
       "      <td>7.384000e+09</td>\n",
       "    </tr>\n",
       "    <tr>\n",
       "      <th>4651699</th>\n",
       "      <td>United States</td>\n",
       "      <td>USA</td>\n",
       "      <td>Arms exports (SIPRI trend indicator values)</td>\n",
       "      <td>MS.MIL.XPRT.KD</td>\n",
       "      <td>2012</td>\n",
       "      <td>9.018000e+09</td>\n",
       "    </tr>\n",
       "    <tr>\n",
       "      <th>4652810</th>\n",
       "      <td>United States</td>\n",
       "      <td>USA</td>\n",
       "      <td>Arms exports (SIPRI trend indicator values)</td>\n",
       "      <td>MS.MIL.XPRT.KD</td>\n",
       "      <td>2011</td>\n",
       "      <td>9.111000e+09</td>\n",
       "    </tr>\n",
       "    <tr>\n",
       "      <th>4640880</th>\n",
       "      <td>United States</td>\n",
       "      <td>USA</td>\n",
       "      <td>Arms exports (SIPRI trend indicator values)</td>\n",
       "      <td>MS.MIL.XPRT.KD</td>\n",
       "      <td>2010</td>\n",
       "      <td>8.169000e+09</td>\n",
       "    </tr>\n",
       "    <tr>\n",
       "      <th>4621048</th>\n",
       "      <td>United States</td>\n",
       "      <td>USA</td>\n",
       "      <td>Arms exports (SIPRI trend indicator values)</td>\n",
       "      <td>MS.MIL.XPRT.KD</td>\n",
       "      <td>2009</td>\n",
       "      <td>6.822000e+09</td>\n",
       "    </tr>\n",
       "    <tr>\n",
       "      <th>4620931</th>\n",
       "      <td>United States</td>\n",
       "      <td>USA</td>\n",
       "      <td>Arms exports (SIPRI trend indicator values)</td>\n",
       "      <td>MS.MIL.XPRT.KD</td>\n",
       "      <td>2008</td>\n",
       "      <td>6.814000e+09</td>\n",
       "    </tr>\n",
       "    <tr>\n",
       "      <th>4636237</th>\n",
       "      <td>United States</td>\n",
       "      <td>USA</td>\n",
       "      <td>Arms exports (SIPRI trend indicator values)</td>\n",
       "      <td>MS.MIL.XPRT.KD</td>\n",
       "      <td>2007</td>\n",
       "      <td>7.834000e+09</td>\n",
       "    </tr>\n",
       "    <tr>\n",
       "      <th>4631888</th>\n",
       "      <td>United States</td>\n",
       "      <td>USA</td>\n",
       "      <td>Arms exports (SIPRI trend indicator values)</td>\n",
       "      <td>MS.MIL.XPRT.KD</td>\n",
       "      <td>2006</td>\n",
       "      <td>7.521000e+09</td>\n",
       "    </tr>\n",
       "    <tr>\n",
       "      <th>4620019</th>\n",
       "      <td>United States</td>\n",
       "      <td>USA</td>\n",
       "      <td>Arms exports (SIPRI trend indicator values)</td>\n",
       "      <td>MS.MIL.XPRT.KD</td>\n",
       "      <td>2005</td>\n",
       "      <td>6.758000e+09</td>\n",
       "    </tr>\n",
       "    <tr>\n",
       "      <th>4619906</th>\n",
       "      <td>United States</td>\n",
       "      <td>USA</td>\n",
       "      <td>Arms exports (SIPRI trend indicator values)</td>\n",
       "      <td>MS.MIL.XPRT.KD</td>\n",
       "      <td>2004</td>\n",
       "      <td>6.752000e+09</td>\n",
       "    </tr>\n",
       "  </tbody>\n",
       "</table>\n",
       "</div>"
      ],
      "text/plain": [
       "           CountryName CountryCode  \\\n",
       "4664484  United States         USA   \n",
       "4629943  United States         USA   \n",
       "4651699  United States         USA   \n",
       "4652810  United States         USA   \n",
       "4640880  United States         USA   \n",
       "4621048  United States         USA   \n",
       "4620931  United States         USA   \n",
       "4636237  United States         USA   \n",
       "4631888  United States         USA   \n",
       "4620019  United States         USA   \n",
       "4619906  United States         USA   \n",
       "\n",
       "                                       IndicatorName   IndicatorCode  Year  \\\n",
       "4664484  Arms exports (SIPRI trend indicator values)  MS.MIL.XPRT.KD  2014   \n",
       "4629943  Arms exports (SIPRI trend indicator values)  MS.MIL.XPRT.KD  2013   \n",
       "4651699  Arms exports (SIPRI trend indicator values)  MS.MIL.XPRT.KD  2012   \n",
       "4652810  Arms exports (SIPRI trend indicator values)  MS.MIL.XPRT.KD  2011   \n",
       "4640880  Arms exports (SIPRI trend indicator values)  MS.MIL.XPRT.KD  2010   \n",
       "4621048  Arms exports (SIPRI trend indicator values)  MS.MIL.XPRT.KD  2009   \n",
       "4620931  Arms exports (SIPRI trend indicator values)  MS.MIL.XPRT.KD  2008   \n",
       "4636237  Arms exports (SIPRI trend indicator values)  MS.MIL.XPRT.KD  2007   \n",
       "4631888  Arms exports (SIPRI trend indicator values)  MS.MIL.XPRT.KD  2006   \n",
       "4620019  Arms exports (SIPRI trend indicator values)  MS.MIL.XPRT.KD  2005   \n",
       "4619906  Arms exports (SIPRI trend indicator values)  MS.MIL.XPRT.KD  2004   \n",
       "\n",
       "                Value  \n",
       "4664484  1.019400e+10  \n",
       "4629943  7.384000e+09  \n",
       "4651699  9.018000e+09  \n",
       "4652810  9.111000e+09  \n",
       "4640880  8.169000e+09  \n",
       "4621048  6.822000e+09  \n",
       "4620931  6.814000e+09  \n",
       "4636237  7.834000e+09  \n",
       "4631888  7.521000e+09  \n",
       "4620019  6.758000e+09  \n",
       "4619906  6.752000e+09  "
      ]
     },
     "execution_count": 96,
     "metadata": {},
     "output_type": "execute_result"
    }
   ],
   "source": [
    "usa_stage.head(11)"
   ]
  },
  {
   "cell_type": "code",
   "execution_count": 23,
   "metadata": {},
   "outputs": [
    {
     "data": {
      "text/plain": [
       "pandas.core.frame.DataFrame"
      ]
     },
     "execution_count": 23,
     "metadata": {},
     "output_type": "execute_result"
    }
   ],
   "source": [
    "type(usa_stage)"
   ]
  },
  {
   "cell_type": "markdown",
   "metadata": {},
   "source": [
    "## Bar Chart Arms Export per Capita"
   ]
  },
  {
   "cell_type": "code",
   "execution_count": 93,
   "metadata": {},
   "outputs": [
    {
     "data": {
      "image/png": "[encoded data removed]",
      "text/plain": [
       "<matplotlib.figure.Figure at 0x116c42c18>"
      ]
     },
     "metadata": {},
     "output_type": "display_data"
    }
   ],
   "source": [
    "# get the years\n",
    "years = arms_stage['Year'].values\n",
    "# get the values\n",
    "arms = arms_stage['Value'].values\n",
    "\n",
    "# create\n",
    "plt.bar(years,arms)\n",
    "plt.title(\"Arms exports per Capita from 1960-2014\")\n",
    "plt.xlabel(\"Year\")\n",
    "plt.ylabel(\"Arms Export per Capita in millions\")\n",
    "\n",
    "# format the number output on the y-axis\n",
    "ax = plt.gca()\n",
    "ax.yaxis.get_major_formatter().set_scientific(False)\n",
    "\n",
    "def millions(x, pos):\n",
    "    'The two args are the value and tick position'\n",
    "    return '{:.0f}M'.format(x*1e-9)\n",
    "\n",
    "formatter = FuncFormatter(millions)\n",
    "\n",
    "ax.yaxis.set_major_formatter(formatter)\n",
    "\n",
    "plt.show()"
   ]
  },
  {
   "cell_type": "markdown",
   "metadata": {},
   "source": [
    "## Bar chart of yearly USA arms exports"
   ]
  },
  {
   "cell_type": "code",
   "execution_count": 97,
   "metadata": {},
   "outputs": [
    {
     "data": {
      "image/png": "[encoded data removed]",
      "text/plain": [
       "<matplotlib.figure.Figure at 0x116492a90>"
      ]
     },
     "metadata": {},
     "output_type": "display_data"
    }
   ],
   "source": [
    "# get the years\n",
    "years = usa_stage['Year'].values\n",
    "# get the values\n",
    "arms = usa_stage['Value'].values\n",
    "\n",
    "# create\n",
    "plt.bar(years,arms)\n",
    "plt.title(\"USA Arms exports per Capita from 1960-2014\")\n",
    "plt.xlabel(\"Year\")\n",
    "plt.ylabel(\"USA Arms Export per Capita in millions\")\n",
    "\n",
    "# format the number output on the y-axis\n",
    "ax = plt.gca()\n",
    "ax.yaxis.get_major_formatter().set_scientific(False)\n",
    "\n",
    "def millions(x, pos):\n",
    "    'The two args are the value and tick position'\n",
    "    return '{:.0f}M'.format(x*1e-9)\n",
    "\n",
    "formatter = FuncFormatter(millions)\n",
    "\n",
    "ax.yaxis.set_major_formatter(formatter)\n",
    "\n",
    "plt.show()"
   ]
  },
  {
   "cell_type": "markdown",
   "metadata": {},
   "source": [
    "Notable years: 2002, 2013\n",
    "There is an increase in global exports compared to USA"
   ]
  },
  {
   "cell_type": "markdown",
   "metadata": {},
   "source": [
    "## Line Graph of USA arms exports annual"
   ]
  },
  {
   "cell_type": "code",
   "execution_count": 30,
   "metadata": {},
   "outputs": [
    {
     "data": {
      "image/png": "[encoded data removed]",
      "text/plain": [
       "<matplotlib.figure.Figure at 0x11477e518>"
      ]
     },
     "metadata": {},
     "output_type": "display_data"
    }
   ],
   "source": [
    "# switch to a line plot\n",
    "plt.plot(usa_stage['Year'].values, usa_stage['Value'].values)\n",
    "\n",
    "# Label the axes\n",
    "plt.xlabel('Year')\n",
    "plt.ylabel(usa_stage['IndicatorName'].iloc[0])\n",
    "\n",
    "#label the figure\n",
    "plt.title('Arms Exports in USA')\n",
    "\n",
    "# to make more honest, start the y axis at 0\n",
    "plt.axis([1959, 2015, 0, 1.9e10])\n",
    "\n",
    "ax = plt.gca()\n",
    "ax.yaxis.get_major_formatter().set_scientific(False)\n",
    "\n",
    "def millions(x, pos):\n",
    "    'The two args are the value and tick position'\n",
    "    return '{:.0f}M'.format(x*1e-9)\n",
    "\n",
    "formatter = FuncFormatter(millions)\n",
    "\n",
    "ax.yaxis.set_major_formatter(formatter)\n",
    "\n",
    "plt.show()"
   ]
  },
  {
   "cell_type": "markdown",
   "metadata": {},
   "source": [
    "## Histogram of Global and USA Arms exports annual"
   ]
  },
  {
   "cell_type": "code",
   "execution_count": 31,
   "metadata": {},
   "outputs": [
    {
     "data": {
      "image/png": "[encoded data removed]",
      "text/plain": [
       "<matplotlib.figure.Figure at 0x114a8e940>"
      ]
     },
     "metadata": {},
     "output_type": "display_data"
    }
   ],
   "source": [
    "hist_data = usa_stage['Value'].values\n",
    "plt.hist(usa_stage['Value'].values, 10, normed=False, facecolor='green')\n",
    "\n",
    "plt.xlabel(usa_stage['IndicatorName'].iloc[0])\n",
    "plt.ylabel('# of Years')\n",
    "plt.title(\"Histogram of USA's Arms exports (1960-2014)\")\n",
    "\n",
    "ax = plt.gca()\n",
    "ax.xaxis.get_major_formatter().set_scientific(False)\n",
    "\n",
    "def millions(x, pos):\n",
    "    'The two args are the value and tick position'\n",
    "    return '{:.0f}M'.format(x*1e-9)\n",
    "\n",
    "formatter = FuncFormatter(millions)\n",
    "\n",
    "ax.xaxis.set_major_formatter(formatter)\n",
    "\n",
    "#plt.axis([10, 22, 0, 14])\n",
    "plt.grid(True)\n",
    "\n",
    "plt.show()"
   ]
  },
  {
   "cell_type": "markdown",
   "metadata": {},
   "source": [
    "So the USA has many years where it exported between 10M-12M arms per capita with outliers on either side."
   ]
  },
  {
   "cell_type": "code",
   "execution_count": 32,
   "metadata": {},
   "outputs": [
    {
     "name": "stdout",
     "output_type": "stream",
     "text": [
      "[  5.96100000e+09   6.37600000e+09   5.72500000e+09   9.02900000e+09\n",
      "   1.20770000e+10   1.10540000e+10   8.34900000e+09   7.16500000e+09\n",
      "   8.10100000e+09   1.13340000e+10   8.63400000e+09   1.14780000e+10\n",
      "   1.05850000e+10   1.18390000e+10   1.20740000e+10   1.57080000e+10\n",
      "   1.54400000e+10   1.45370000e+10   1.41860000e+10   9.76400000e+09\n",
      "   1.06970000e+10   1.34510000e+10   1.39600000e+10   1.38340000e+10\n",
      "   1.17960000e+10   1.06890000e+10   1.15480000e+10   1.22430000e+10\n",
      "   1.18010000e+10   1.13420000e+10   1.07620000e+10   1.25400000e+10\n",
      "   1.41070000e+10   1.38360000e+10   1.14610000e+10   1.11460000e+10\n",
      "   1.08080000e+10   1.45180000e+10   1.57080000e+10   1.15530000e+10\n",
      "   7.59100000e+09   5.68200000e+09   4.95500000e+09   5.61800000e+09\n",
      "   6.75200000e+09   6.75800000e+09   7.52100000e+09   7.83400000e+09\n",
      "   6.81400000e+09   6.82200000e+09   8.16900000e+09   9.11100000e+09\n",
      "   9.01800000e+09   7.38400000e+09   1.01940000e+10]\n"
     ]
    }
   ],
   "source": [
    "print(hist_data)"
   ]
  },
  {
   "cell_type": "markdown",
   "metadata": {},
   "source": [
    "## How does USA compare to other countries"
   ]
  },
  {
   "cell_type": "code",
   "execution_count": 120,
   "metadata": {},
   "outputs": [
    {
     "data": {
      "text/html": [
       "<div>\n",
       "<style>\n",
       "    .dataframe thead tr:only-child th {\n",
       "        text-align: right;\n",
       "    }\n",
       "\n",
       "    .dataframe thead th {\n",
       "        text-align: left;\n",
       "    }\n",
       "\n",
       "    .dataframe tbody tr th {\n",
       "        vertical-align: top;\n",
       "    }\n",
       "</style>\n",
       "<table border=\"1\" class=\"dataframe\">\n",
       "  <thead>\n",
       "    <tr style=\"text-align: right;\">\n",
       "      <th></th>\n",
       "      <th>CountryName</th>\n",
       "      <th>CountryCode</th>\n",
       "      <th>IndicatorName</th>\n",
       "      <th>IndicatorCode</th>\n",
       "      <th>Year</th>\n",
       "      <th>Value</th>\n",
       "    </tr>\n",
       "  </thead>\n",
       "  <tbody>\n",
       "    <tr>\n",
       "      <th>4918852</th>\n",
       "      <td>South Asia</td>\n",
       "      <td>SAS</td>\n",
       "      <td>Disbursements on external debt, long-term (DIS...</td>\n",
       "      <td>DT.DIS.DLXF.CD</td>\n",
       "      <td>2015</td>\n",
       "      <td>2.287139e+11</td>\n",
       "    </tr>\n",
       "    <tr>\n",
       "      <th>4914010</th>\n",
       "      <td>Pakistan</td>\n",
       "      <td>PAK</td>\n",
       "      <td>Disbursements on external debt, long-term (DIS...</td>\n",
       "      <td>DT.DIS.DLXF.CD</td>\n",
       "      <td>2015</td>\n",
       "      <td>2.111025e+11</td>\n",
       "    </tr>\n",
       "    <tr>\n",
       "      <th>4913622</th>\n",
       "      <td>South Asia</td>\n",
       "      <td>SAS</td>\n",
       "      <td>PPG, private creditors (DIS, current US$)</td>\n",
       "      <td>DT.DIS.PRVT.CD</td>\n",
       "      <td>2015</td>\n",
       "      <td>2.097367e+11</td>\n",
       "    </tr>\n",
       "    <tr>\n",
       "      <th>4913619</th>\n",
       "      <td>South Asia</td>\n",
       "      <td>SAS</td>\n",
       "      <td>PPG, commercial banks (DIS, current US$)</td>\n",
       "      <td>DT.DIS.PCBK.CD</td>\n",
       "      <td>2015</td>\n",
       "      <td>2.097213e+11</td>\n",
       "    </tr>\n",
       "    <tr>\n",
       "      <th>4913319</th>\n",
       "      <td>Pakistan</td>\n",
       "      <td>PAK</td>\n",
       "      <td>PPG, private creditors (DIS, current US$)</td>\n",
       "      <td>DT.DIS.PRVT.CD</td>\n",
       "      <td>2015</td>\n",
       "      <td>2.087984e+11</td>\n",
       "    </tr>\n",
       "    <tr>\n",
       "      <th>4913320</th>\n",
       "      <td>Pakistan</td>\n",
       "      <td>PAK</td>\n",
       "      <td>PPG, commercial banks (DIS, current US$)</td>\n",
       "      <td>DT.DIS.PCBK.CD</td>\n",
       "      <td>2015</td>\n",
       "      <td>2.087984e+11</td>\n",
       "    </tr>\n",
       "    <tr>\n",
       "      <th>4730595</th>\n",
       "      <td>Romania</td>\n",
       "      <td>ROM</td>\n",
       "      <td>Principal repayments on external debt, long-te...</td>\n",
       "      <td>DT.AMT.DLXF.CD</td>\n",
       "      <td>2015</td>\n",
       "      <td>2.014780e+10</td>\n",
       "    </tr>\n",
       "    <tr>\n",
       "      <th>4727366</th>\n",
       "      <td>Mexico</td>\n",
       "      <td>MEX</td>\n",
       "      <td>Principal repayments on external debt, long-te...</td>\n",
       "      <td>DT.AMT.DLXF.CD</td>\n",
       "      <td>2015</td>\n",
       "      <td>1.946834e+10</td>\n",
       "    </tr>\n",
       "    <tr>\n",
       "      <th>4724948</th>\n",
       "      <td>South Asia</td>\n",
       "      <td>SAS</td>\n",
       "      <td>PPG, official creditors (DIS, current US$)</td>\n",
       "      <td>DT.DIS.OFFT.CD</td>\n",
       "      <td>2015</td>\n",
       "      <td>1.897722e+10</td>\n",
       "    </tr>\n",
       "    <tr>\n",
       "      <th>4721109</th>\n",
       "      <td>Mexico</td>\n",
       "      <td>MEX</td>\n",
       "      <td>PPG, private creditors (AMT, current US$)</td>\n",
       "      <td>DT.AMT.PRVT.CD</td>\n",
       "      <td>2015</td>\n",
       "      <td>1.821751e+10</td>\n",
       "    </tr>\n",
       "  </tbody>\n",
       "</table>\n",
       "</div>"
      ],
      "text/plain": [
       "        CountryName CountryCode  \\\n",
       "4918852  South Asia         SAS   \n",
       "4914010    Pakistan         PAK   \n",
       "4913622  South Asia         SAS   \n",
       "4913619  South Asia         SAS   \n",
       "4913319    Pakistan         PAK   \n",
       "4913320    Pakistan         PAK   \n",
       "4730595     Romania         ROM   \n",
       "4727366      Mexico         MEX   \n",
       "4724948  South Asia         SAS   \n",
       "4721109      Mexico         MEX   \n",
       "\n",
       "                                             IndicatorName   IndicatorCode  \\\n",
       "4918852  Disbursements on external debt, long-term (DIS...  DT.DIS.DLXF.CD   \n",
       "4914010  Disbursements on external debt, long-term (DIS...  DT.DIS.DLXF.CD   \n",
       "4913622          PPG, private creditors (DIS, current US$)  DT.DIS.PRVT.CD   \n",
       "4913619           PPG, commercial banks (DIS, current US$)  DT.DIS.PCBK.CD   \n",
       "4913319          PPG, private creditors (DIS, current US$)  DT.DIS.PRVT.CD   \n",
       "4913320           PPG, commercial banks (DIS, current US$)  DT.DIS.PCBK.CD   \n",
       "4730595  Principal repayments on external debt, long-te...  DT.AMT.DLXF.CD   \n",
       "4727366  Principal repayments on external debt, long-te...  DT.AMT.DLXF.CD   \n",
       "4724948         PPG, official creditors (DIS, current US$)  DT.DIS.OFFT.CD   \n",
       "4721109          PPG, private creditors (AMT, current US$)  DT.AMT.PRVT.CD   \n",
       "\n",
       "         Year         Value  \n",
       "4918852  2015  2.287139e+11  \n",
       "4914010  2015  2.111025e+11  \n",
       "4913622  2015  2.097367e+11  \n",
       "4913619  2015  2.097213e+11  \n",
       "4913319  2015  2.087984e+11  \n",
       "4913320  2015  2.087984e+11  \n",
       "4730595  2015  2.014780e+10  \n",
       "4727366  2015  1.946834e+10  \n",
       "4724948  2015  1.897722e+10  \n",
       "4721109  2015  1.821751e+10  "
      ]
     },
     "execution_count": 120,
     "metadata": {},
     "output_type": "execute_result"
    }
   ],
   "source": [
    "data = data.sort_values(by=['Year', 'Value'], ascending=False)\n",
    "data.head(10)"
   ]
  },
  {
   "cell_type": "code",
   "execution_count": 121,
   "metadata": {},
   "outputs": [
    {
     "data": {
      "text/html": [
       "<div>\n",
       "<style>\n",
       "    .dataframe thead tr:only-child th {\n",
       "        text-align: right;\n",
       "    }\n",
       "\n",
       "    .dataframe thead th {\n",
       "        text-align: left;\n",
       "    }\n",
       "\n",
       "    .dataframe tbody tr th {\n",
       "        vertical-align: top;\n",
       "    }\n",
       "</style>\n",
       "<table border=\"1\" class=\"dataframe\">\n",
       "  <thead>\n",
       "    <tr style=\"text-align: right;\">\n",
       "      <th></th>\n",
       "      <th>CountryName</th>\n",
       "      <th>CountryCode</th>\n",
       "      <th>IndicatorName</th>\n",
       "      <th>IndicatorCode</th>\n",
       "      <th>Year</th>\n",
       "      <th>Value</th>\n",
       "    </tr>\n",
       "  </thead>\n",
       "  <tbody>\n",
       "    <tr>\n",
       "      <th>4670076</th>\n",
       "      <td>United States</td>\n",
       "      <td>USA</td>\n",
       "      <td>Arms exports (SIPRI trend indicator values)</td>\n",
       "      <td>MS.MIL.XPRT.KD</td>\n",
       "      <td>1990</td>\n",
       "      <td>1.076200e+10</td>\n",
       "    </tr>\n",
       "    <tr>\n",
       "      <th>4465903</th>\n",
       "      <td>United Kingdom</td>\n",
       "      <td>GBR</td>\n",
       "      <td>Arms exports (SIPRI trend indicator values)</td>\n",
       "      <td>MS.MIL.XPRT.KD</td>\n",
       "      <td>1990</td>\n",
       "      <td>1.877000e+09</td>\n",
       "    </tr>\n",
       "    <tr>\n",
       "      <th>4462962</th>\n",
       "      <td>Germany</td>\n",
       "      <td>DEU</td>\n",
       "      <td>Arms exports (SIPRI trend indicator values)</td>\n",
       "      <td>MS.MIL.XPRT.KD</td>\n",
       "      <td>1990</td>\n",
       "      <td>1.834000e+09</td>\n",
       "    </tr>\n",
       "    <tr>\n",
       "      <th>4453239</th>\n",
       "      <td>France</td>\n",
       "      <td>FRA</td>\n",
       "      <td>Arms exports (SIPRI trend indicator values)</td>\n",
       "      <td>MS.MIL.XPRT.KD</td>\n",
       "      <td>1990</td>\n",
       "      <td>1.698000e+09</td>\n",
       "    </tr>\n",
       "    <tr>\n",
       "      <th>4375760</th>\n",
       "      <td>China</td>\n",
       "      <td>CHN</td>\n",
       "      <td>Arms exports (SIPRI trend indicator values)</td>\n",
       "      <td>MS.MIL.XPRT.KD</td>\n",
       "      <td>1990</td>\n",
       "      <td>9.410000e+08</td>\n",
       "    </tr>\n",
       "  </tbody>\n",
       "</table>\n",
       "</div>"
      ],
      "text/plain": [
       "            CountryName CountryCode  \\\n",
       "4670076   United States         USA   \n",
       "4465903  United Kingdom         GBR   \n",
       "4462962         Germany         DEU   \n",
       "4453239          France         FRA   \n",
       "4375760           China         CHN   \n",
       "\n",
       "                                       IndicatorName   IndicatorCode  Year  \\\n",
       "4670076  Arms exports (SIPRI trend indicator values)  MS.MIL.XPRT.KD  1990   \n",
       "4465903  Arms exports (SIPRI trend indicator values)  MS.MIL.XPRT.KD  1990   \n",
       "4462962  Arms exports (SIPRI trend indicator values)  MS.MIL.XPRT.KD  1990   \n",
       "4453239  Arms exports (SIPRI trend indicator values)  MS.MIL.XPRT.KD  1990   \n",
       "4375760  Arms exports (SIPRI trend indicator values)  MS.MIL.XPRT.KD  1990   \n",
       "\n",
       "                Value  \n",
       "4670076  1.076200e+10  \n",
       "4465903  1.877000e+09  \n",
       "4462962  1.834000e+09  \n",
       "4453239  1.698000e+09  \n",
       "4375760  9.410000e+08  "
      ]
     },
     "execution_count": 121,
     "metadata": {},
     "output_type": "execute_result"
    }
   ],
   "source": [
    "# select arms exports for all countries in 2011\n",
    "hist_indicator = 'Arms exports \\(SIPRI'\n",
    "hist_year = 1990\n",
    "\n",
    "mask1 = data['IndicatorName'].str.contains(hist_indicator) \n",
    "mask2 = data['Year'].isin([hist_year])\n",
    "mask3 = data['Year'].between(1973, 1981)\n",
    "mask4 = data['Year'].between(1989, 1996)\n",
    "\n",
    "# apply our mask\n",
    "arms_1990 = data[mask1 & mask2]\n",
    "arms_range1 = data[mask1 & mask3].head(20)\n",
    "arms_range2 = data[mask1 & mask4].head(20)\n",
    "arms_1990.head(5)"
   ]
  },
  {
   "cell_type": "code",
   "execution_count": 122,
   "metadata": {},
   "outputs": [
    {
     "data": {
      "text/html": [
       "<div>\n",
       "<style>\n",
       "    .dataframe thead tr:only-child th {\n",
       "        text-align: right;\n",
       "    }\n",
       "\n",
       "    .dataframe thead th {\n",
       "        text-align: left;\n",
       "    }\n",
       "\n",
       "    .dataframe tbody tr th {\n",
       "        vertical-align: top;\n",
       "    }\n",
       "</style>\n",
       "<table border=\"1\" class=\"dataframe\">\n",
       "  <thead>\n",
       "    <tr style=\"text-align: right;\">\n",
       "      <th></th>\n",
       "      <th>CountryName</th>\n",
       "      <th>CountryCode</th>\n",
       "      <th>IndicatorName</th>\n",
       "      <th>IndicatorCode</th>\n",
       "      <th>Year</th>\n",
       "      <th>Value</th>\n",
       "    </tr>\n",
       "  </thead>\n",
       "  <tbody>\n",
       "    <tr>\n",
       "      <th>4692070</th>\n",
       "      <td>United States</td>\n",
       "      <td>USA</td>\n",
       "      <td>Arms exports (SIPRI trend indicator values)</td>\n",
       "      <td>MS.MIL.XPRT.KD</td>\n",
       "      <td>1981</td>\n",
       "      <td>1.345100e+10</td>\n",
       "    </tr>\n",
       "    <tr>\n",
       "      <th>4553128</th>\n",
       "      <td>France</td>\n",
       "      <td>FRA</td>\n",
       "      <td>Arms exports (SIPRI trend indicator values)</td>\n",
       "      <td>MS.MIL.XPRT.KD</td>\n",
       "      <td>1981</td>\n",
       "      <td>3.786000e+09</td>\n",
       "    </tr>\n",
       "    <tr>\n",
       "      <th>4496997</th>\n",
       "      <td>United Kingdom</td>\n",
       "      <td>GBR</td>\n",
       "      <td>Arms exports (SIPRI trend indicator values)</td>\n",
       "      <td>MS.MIL.XPRT.KD</td>\n",
       "      <td>1981</td>\n",
       "      <td>2.403000e+09</td>\n",
       "    </tr>\n",
       "    <tr>\n",
       "      <th>4475814</th>\n",
       "      <td>Germany</td>\n",
       "      <td>DEU</td>\n",
       "      <td>Arms exports (SIPRI trend indicator values)</td>\n",
       "      <td>MS.MIL.XPRT.KD</td>\n",
       "      <td>1981</td>\n",
       "      <td>2.029000e+09</td>\n",
       "    </tr>\n",
       "    <tr>\n",
       "      <th>4452661</th>\n",
       "      <td>Italy</td>\n",
       "      <td>ITA</td>\n",
       "      <td>Arms exports (SIPRI trend indicator values)</td>\n",
       "      <td>MS.MIL.XPRT.KD</td>\n",
       "      <td>1981</td>\n",
       "      <td>1.690000e+09</td>\n",
       "    </tr>\n",
       "    <tr>\n",
       "      <th>4355588</th>\n",
       "      <td>Netherlands</td>\n",
       "      <td>NLD</td>\n",
       "      <td>Arms exports (SIPRI trend indicator values)</td>\n",
       "      <td>MS.MIL.XPRT.KD</td>\n",
       "      <td>1981</td>\n",
       "      <td>8.120000e+08</td>\n",
       "    </tr>\n",
       "    <tr>\n",
       "      <th>4323869</th>\n",
       "      <td>China</td>\n",
       "      <td>CHN</td>\n",
       "      <td>Arms exports (SIPRI trend indicator values)</td>\n",
       "      <td>MS.MIL.XPRT.KD</td>\n",
       "      <td>1981</td>\n",
       "      <td>6.420000e+08</td>\n",
       "    </tr>\n",
       "    <tr>\n",
       "      <th>4323240</th>\n",
       "      <td>Switzerland</td>\n",
       "      <td>CHE</td>\n",
       "      <td>Arms exports (SIPRI trend indicator values)</td>\n",
       "      <td>MS.MIL.XPRT.KD</td>\n",
       "      <td>1981</td>\n",
       "      <td>6.390000e+08</td>\n",
       "    </tr>\n",
       "    <tr>\n",
       "      <th>4240877</th>\n",
       "      <td>Poland</td>\n",
       "      <td>POL</td>\n",
       "      <td>Arms exports (SIPRI trend indicator values)</td>\n",
       "      <td>MS.MIL.XPRT.KD</td>\n",
       "      <td>1981</td>\n",
       "      <td>3.460000e+08</td>\n",
       "    </tr>\n",
       "    <tr>\n",
       "      <th>4211955</th>\n",
       "      <td>Norway</td>\n",
       "      <td>NOR</td>\n",
       "      <td>Arms exports (SIPRI trend indicator values)</td>\n",
       "      <td>MS.MIL.XPRT.KD</td>\n",
       "      <td>1981</td>\n",
       "      <td>2.780000e+08</td>\n",
       "    </tr>\n",
       "    <tr>\n",
       "      <th>4178697</th>\n",
       "      <td>Israel</td>\n",
       "      <td>ISR</td>\n",
       "      <td>Arms exports (SIPRI trend indicator values)</td>\n",
       "      <td>MS.MIL.XPRT.KD</td>\n",
       "      <td>1981</td>\n",
       "      <td>2.170000e+08</td>\n",
       "    </tr>\n",
       "    <tr>\n",
       "      <th>4178696</th>\n",
       "      <td>Arab World</td>\n",
       "      <td>ARB</td>\n",
       "      <td>Arms exports (SIPRI trend indicator values)</td>\n",
       "      <td>MS.MIL.XPRT.KD</td>\n",
       "      <td>1981</td>\n",
       "      <td>2.170000e+08</td>\n",
       "    </tr>\n",
       "    <tr>\n",
       "      <th>4117226</th>\n",
       "      <td>Sweden</td>\n",
       "      <td>SWE</td>\n",
       "      <td>Arms exports (SIPRI trend indicator values)</td>\n",
       "      <td>MS.MIL.XPRT.KD</td>\n",
       "      <td>1981</td>\n",
       "      <td>1.380000e+08</td>\n",
       "    </tr>\n",
       "    <tr>\n",
       "      <th>4109226</th>\n",
       "      <td>Korea, Rep.</td>\n",
       "      <td>KOR</td>\n",
       "      <td>Arms exports (SIPRI trend indicator values)</td>\n",
       "      <td>MS.MIL.XPRT.KD</td>\n",
       "      <td>1981</td>\n",
       "      <td>1.300000e+08</td>\n",
       "    </tr>\n",
       "    <tr>\n",
       "      <th>4109194</th>\n",
       "      <td>Spain</td>\n",
       "      <td>ESP</td>\n",
       "      <td>Arms exports (SIPRI trend indicator values)</td>\n",
       "      <td>MS.MIL.XPRT.KD</td>\n",
       "      <td>1981</td>\n",
       "      <td>1.300000e+08</td>\n",
       "    </tr>\n",
       "    <tr>\n",
       "      <th>4104846</th>\n",
       "      <td>Canada</td>\n",
       "      <td>CAN</td>\n",
       "      <td>Arms exports (SIPRI trend indicator values)</td>\n",
       "      <td>MS.MIL.XPRT.KD</td>\n",
       "      <td>1981</td>\n",
       "      <td>1.260000e+08</td>\n",
       "    </tr>\n",
       "    <tr>\n",
       "      <th>4083097</th>\n",
       "      <td>Libya</td>\n",
       "      <td>LBY</td>\n",
       "      <td>Arms exports (SIPRI trend indicator values)</td>\n",
       "      <td>MS.MIL.XPRT.KD</td>\n",
       "      <td>1981</td>\n",
       "      <td>1.070000e+08</td>\n",
       "    </tr>\n",
       "    <tr>\n",
       "      <th>4061197</th>\n",
       "      <td>Macedonia, FYR</td>\n",
       "      <td>MKD</td>\n",
       "      <td>Arms exports (SIPRI trend indicator values)</td>\n",
       "      <td>MS.MIL.XPRT.KD</td>\n",
       "      <td>1981</td>\n",
       "      <td>9.100000e+07</td>\n",
       "    </tr>\n",
       "    <tr>\n",
       "      <th>4038655</th>\n",
       "      <td>Egypt, Arab Rep.</td>\n",
       "      <td>EGY</td>\n",
       "      <td>Arms exports (SIPRI trend indicator values)</td>\n",
       "      <td>MS.MIL.XPRT.KD</td>\n",
       "      <td>1981</td>\n",
       "      <td>7.700000e+07</td>\n",
       "    </tr>\n",
       "    <tr>\n",
       "      <th>4031566</th>\n",
       "      <td>Austria</td>\n",
       "      <td>AUT</td>\n",
       "      <td>Arms exports (SIPRI trend indicator values)</td>\n",
       "      <td>MS.MIL.XPRT.KD</td>\n",
       "      <td>1981</td>\n",
       "      <td>7.300000e+07</td>\n",
       "    </tr>\n",
       "  </tbody>\n",
       "</table>\n",
       "</div>"
      ],
      "text/plain": [
       "              CountryName CountryCode  \\\n",
       "4692070     United States         USA   \n",
       "4553128            France         FRA   \n",
       "4496997    United Kingdom         GBR   \n",
       "4475814           Germany         DEU   \n",
       "4452661             Italy         ITA   \n",
       "4355588       Netherlands         NLD   \n",
       "4323869             China         CHN   \n",
       "4323240       Switzerland         CHE   \n",
       "4240877            Poland         POL   \n",
       "4211955            Norway         NOR   \n",
       "4178697            Israel         ISR   \n",
       "4178696        Arab World         ARB   \n",
       "4117226            Sweden         SWE   \n",
       "4109226       Korea, Rep.         KOR   \n",
       "4109194             Spain         ESP   \n",
       "4104846            Canada         CAN   \n",
       "4083097             Libya         LBY   \n",
       "4061197    Macedonia, FYR         MKD   \n",
       "4038655  Egypt, Arab Rep.         EGY   \n",
       "4031566           Austria         AUT   \n",
       "\n",
       "                                       IndicatorName   IndicatorCode  Year  \\\n",
       "4692070  Arms exports (SIPRI trend indicator values)  MS.MIL.XPRT.KD  1981   \n",
       "4553128  Arms exports (SIPRI trend indicator values)  MS.MIL.XPRT.KD  1981   \n",
       "4496997  Arms exports (SIPRI trend indicator values)  MS.MIL.XPRT.KD  1981   \n",
       "4475814  Arms exports (SIPRI trend indicator values)  MS.MIL.XPRT.KD  1981   \n",
       "4452661  Arms exports (SIPRI trend indicator values)  MS.MIL.XPRT.KD  1981   \n",
       "4355588  Arms exports (SIPRI trend indicator values)  MS.MIL.XPRT.KD  1981   \n",
       "4323869  Arms exports (SIPRI trend indicator values)  MS.MIL.XPRT.KD  1981   \n",
       "4323240  Arms exports (SIPRI trend indicator values)  MS.MIL.XPRT.KD  1981   \n",
       "4240877  Arms exports (SIPRI trend indicator values)  MS.MIL.XPRT.KD  1981   \n",
       "4211955  Arms exports (SIPRI trend indicator values)  MS.MIL.XPRT.KD  1981   \n",
       "4178697  Arms exports (SIPRI trend indicator values)  MS.MIL.XPRT.KD  1981   \n",
       "4178696  Arms exports (SIPRI trend indicator values)  MS.MIL.XPRT.KD  1981   \n",
       "4117226  Arms exports (SIPRI trend indicator values)  MS.MIL.XPRT.KD  1981   \n",
       "4109226  Arms exports (SIPRI trend indicator values)  MS.MIL.XPRT.KD  1981   \n",
       "4109194  Arms exports (SIPRI trend indicator values)  MS.MIL.XPRT.KD  1981   \n",
       "4104846  Arms exports (SIPRI trend indicator values)  MS.MIL.XPRT.KD  1981   \n",
       "4083097  Arms exports (SIPRI trend indicator values)  MS.MIL.XPRT.KD  1981   \n",
       "4061197  Arms exports (SIPRI trend indicator values)  MS.MIL.XPRT.KD  1981   \n",
       "4038655  Arms exports (SIPRI trend indicator values)  MS.MIL.XPRT.KD  1981   \n",
       "4031566  Arms exports (SIPRI trend indicator values)  MS.MIL.XPRT.KD  1981   \n",
       "\n",
       "                Value  \n",
       "4692070  1.345100e+10  \n",
       "4553128  3.786000e+09  \n",
       "4496997  2.403000e+09  \n",
       "4475814  2.029000e+09  \n",
       "4452661  1.690000e+09  \n",
       "4355588  8.120000e+08  \n",
       "4323869  6.420000e+08  \n",
       "4323240  6.390000e+08  \n",
       "4240877  3.460000e+08  \n",
       "4211955  2.780000e+08  \n",
       "4178697  2.170000e+08  \n",
       "4178696  2.170000e+08  \n",
       "4117226  1.380000e+08  \n",
       "4109226  1.300000e+08  \n",
       "4109194  1.300000e+08  \n",
       "4104846  1.260000e+08  \n",
       "4083097  1.070000e+08  \n",
       "4061197  9.100000e+07  \n",
       "4038655  7.700000e+07  \n",
       "4031566  7.300000e+07  "
      ]
     },
     "execution_count": 122,
     "metadata": {},
     "output_type": "execute_result"
    }
   ],
   "source": [
    "arms_range1"
   ]
  },
  {
   "cell_type": "markdown",
   "metadata": {},
   "source": [
    "### Histogram of Top 20 arms contributors from 1973-1981"
   ]
  },
  {
   "cell_type": "code",
   "execution_count": 113,
   "metadata": {},
   "outputs": [
    {
     "data": {
      "image/png": "[encoded data removed]",
      "text/plain": [
       "<matplotlib.figure.Figure at 0x110f23f60>"
      ]
     },
     "metadata": {},
     "output_type": "display_data"
    }
   ],
   "source": [
    "# let's plot a histogram of the arms exported per capita by country\n",
    "\n",
    "# subplots returns a touple with the figure, axis attributes.\n",
    "fig, ax = plt.subplots()\n",
    "\n",
    "ax.annotate(\"USA\",\n",
    "            xy=(20, 25), xycoords='data',\n",
    "            xytext=(15, 5), textcoords='data',\n",
    "            arrowprops=dict(arrowstyle=\"->\",\n",
    "                            connectionstyle=\"arc3\"),\n",
    "            )\n",
    "\n",
    "plt.hist(arms_range1['Value'], 10, normed=False, facecolor='green')\n",
    "\n",
    "plt.xlabel(arms_range1['IndicatorName'].iloc[0])\n",
    "plt.ylabel('# of Countries (duplicated each year)')\n",
    "plt.title('Histogram of Arms exported Per Capita (1973-1981)')\n",
    "\n",
    "plt.axis([0, 1.5e10, 0, 50])\n",
    "plt.grid(True)\n",
    "\n",
    "ax = plt.gca()\n",
    "ax.xaxis.get_major_formatter().set_scientific(False)\n",
    "\n",
    "def millions(x, pos):\n",
    "    'The two args are the value and tick position'\n",
    "    return '{:.0f}M'.format(x*1e-9)\n",
    "\n",
    "formatter = FuncFormatter(millions)\n",
    "\n",
    "ax.xaxis.set_major_formatter(formatter)\n",
    "\n",
    "\n",
    "plt.show()"
   ]
  },
  {
   "cell_type": "code",
   "execution_count": 88,
   "metadata": {},
   "outputs": [
    {
     "data": {
      "text/html": [
       "<div>\n",
       "<style>\n",
       "    .dataframe thead tr:only-child th {\n",
       "        text-align: right;\n",
       "    }\n",
       "\n",
       "    .dataframe thead th {\n",
       "        text-align: left;\n",
       "    }\n",
       "\n",
       "    .dataframe tbody tr th {\n",
       "        vertical-align: top;\n",
       "    }\n",
       "</style>\n",
       "<table border=\"1\" class=\"dataframe\">\n",
       "  <thead>\n",
       "    <tr style=\"text-align: right;\">\n",
       "      <th></th>\n",
       "      <th>CountryName</th>\n",
       "      <th>CountryCode</th>\n",
       "      <th>IndicatorName</th>\n",
       "      <th>IndicatorCode</th>\n",
       "      <th>Year</th>\n",
       "      <th>Value</th>\n",
       "    </tr>\n",
       "  </thead>\n",
       "  <tbody>\n",
       "    <tr>\n",
       "      <th>4696661</th>\n",
       "      <td>United States</td>\n",
       "      <td>USA</td>\n",
       "      <td>Arms exports (SIPRI trend indicator values)</td>\n",
       "      <td>MS.MIL.XPRT.KD</td>\n",
       "      <td>1992</td>\n",
       "      <td>1.410700e+10</td>\n",
       "    </tr>\n",
       "    <tr>\n",
       "      <th>4694834</th>\n",
       "      <td>United States</td>\n",
       "      <td>USA</td>\n",
       "      <td>Arms exports (SIPRI trend indicator values)</td>\n",
       "      <td>MS.MIL.XPRT.KD</td>\n",
       "      <td>1993</td>\n",
       "      <td>1.383600e+10</td>\n",
       "    </tr>\n",
       "    <tr>\n",
       "      <th>4685231</th>\n",
       "      <td>United States</td>\n",
       "      <td>USA</td>\n",
       "      <td>Arms exports (SIPRI trend indicator values)</td>\n",
       "      <td>MS.MIL.XPRT.KD</td>\n",
       "      <td>1991</td>\n",
       "      <td>1.254000e+10</td>\n",
       "    </tr>\n",
       "    <tr>\n",
       "      <th>4676393</th>\n",
       "      <td>United States</td>\n",
       "      <td>USA</td>\n",
       "      <td>Arms exports (SIPRI trend indicator values)</td>\n",
       "      <td>MS.MIL.XPRT.KD</td>\n",
       "      <td>1994</td>\n",
       "      <td>1.146100e+10</td>\n",
       "    </tr>\n",
       "    <tr>\n",
       "      <th>4675317</th>\n",
       "      <td>United States</td>\n",
       "      <td>USA</td>\n",
       "      <td>Arms exports (SIPRI trend indicator values)</td>\n",
       "      <td>MS.MIL.XPRT.KD</td>\n",
       "      <td>1989</td>\n",
       "      <td>1.134200e+10</td>\n",
       "    </tr>\n",
       "    <tr>\n",
       "      <th>4673572</th>\n",
       "      <td>United States</td>\n",
       "      <td>USA</td>\n",
       "      <td>Arms exports (SIPRI trend indicator values)</td>\n",
       "      <td>MS.MIL.XPRT.KD</td>\n",
       "      <td>1995</td>\n",
       "      <td>1.114600e+10</td>\n",
       "    </tr>\n",
       "    <tr>\n",
       "      <th>4670520</th>\n",
       "      <td>United States</td>\n",
       "      <td>USA</td>\n",
       "      <td>Arms exports (SIPRI trend indicator values)</td>\n",
       "      <td>MS.MIL.XPRT.KD</td>\n",
       "      <td>1996</td>\n",
       "      <td>1.080800e+10</td>\n",
       "    </tr>\n",
       "    <tr>\n",
       "      <th>4670076</th>\n",
       "      <td>United States</td>\n",
       "      <td>USA</td>\n",
       "      <td>Arms exports (SIPRI trend indicator values)</td>\n",
       "      <td>MS.MIL.XPRT.KD</td>\n",
       "      <td>1990</td>\n",
       "      <td>1.076200e+10</td>\n",
       "    </tr>\n",
       "    <tr>\n",
       "      <th>4556602</th>\n",
       "      <td>Russian Federation</td>\n",
       "      <td>RUS</td>\n",
       "      <td>Arms exports (SIPRI trend indicator values)</td>\n",
       "      <td>MS.MIL.XPRT.KD</td>\n",
       "      <td>1995</td>\n",
       "      <td>3.900000e+09</td>\n",
       "    </tr>\n",
       "    <tr>\n",
       "      <th>4544913</th>\n",
       "      <td>Russian Federation</td>\n",
       "      <td>RUS</td>\n",
       "      <td>Arms exports (SIPRI trend indicator values)</td>\n",
       "      <td>MS.MIL.XPRT.KD</td>\n",
       "      <td>1996</td>\n",
       "      <td>3.539000e+09</td>\n",
       "    </tr>\n",
       "    <tr>\n",
       "      <th>4544264</th>\n",
       "      <td>United Kingdom</td>\n",
       "      <td>GBR</td>\n",
       "      <td>Arms exports (SIPRI trend indicator values)</td>\n",
       "      <td>MS.MIL.XPRT.KD</td>\n",
       "      <td>1989</td>\n",
       "      <td>3.520000e+09</td>\n",
       "    </tr>\n",
       "    <tr>\n",
       "      <th>4541527</th>\n",
       "      <td>Russian Federation</td>\n",
       "      <td>RUS</td>\n",
       "      <td>Arms exports (SIPRI trend indicator values)</td>\n",
       "      <td>MS.MIL.XPRT.KD</td>\n",
       "      <td>1993</td>\n",
       "      <td>3.442000e+09</td>\n",
       "    </tr>\n",
       "    <tr>\n",
       "      <th>4513924</th>\n",
       "      <td>Germany</td>\n",
       "      <td>DEU</td>\n",
       "      <td>Arms exports (SIPRI trend indicator values)</td>\n",
       "      <td>MS.MIL.XPRT.KD</td>\n",
       "      <td>1994</td>\n",
       "      <td>2.751000e+09</td>\n",
       "    </tr>\n",
       "    <tr>\n",
       "      <th>4507509</th>\n",
       "      <td>Russian Federation</td>\n",
       "      <td>RUS</td>\n",
       "      <td>Arms exports (SIPRI trend indicator values)</td>\n",
       "      <td>MS.MIL.XPRT.KD</td>\n",
       "      <td>1992</td>\n",
       "      <td>2.613000e+09</td>\n",
       "    </tr>\n",
       "    <tr>\n",
       "      <th>4502729</th>\n",
       "      <td>Germany</td>\n",
       "      <td>DEU</td>\n",
       "      <td>Arms exports (SIPRI trend indicator values)</td>\n",
       "      <td>MS.MIL.XPRT.KD</td>\n",
       "      <td>1991</td>\n",
       "      <td>2.516000e+09</td>\n",
       "    </tr>\n",
       "    <tr>\n",
       "      <th>4486259</th>\n",
       "      <td>France</td>\n",
       "      <td>FRA</td>\n",
       "      <td>Arms exports (SIPRI trend indicator values)</td>\n",
       "      <td>MS.MIL.XPRT.KD</td>\n",
       "      <td>1989</td>\n",
       "      <td>2.207000e+09</td>\n",
       "    </tr>\n",
       "    <tr>\n",
       "      <th>4472323</th>\n",
       "      <td>Germany</td>\n",
       "      <td>DEU</td>\n",
       "      <td>Arms exports (SIPRI trend indicator values)</td>\n",
       "      <td>MS.MIL.XPRT.KD</td>\n",
       "      <td>1996</td>\n",
       "      <td>1.974000e+09</td>\n",
       "    </tr>\n",
       "    <tr>\n",
       "      <th>4467214</th>\n",
       "      <td>France</td>\n",
       "      <td>FRA</td>\n",
       "      <td>Arms exports (SIPRI trend indicator values)</td>\n",
       "      <td>MS.MIL.XPRT.KD</td>\n",
       "      <td>1996</td>\n",
       "      <td>1.896000e+09</td>\n",
       "    </tr>\n",
       "    <tr>\n",
       "      <th>4465903</th>\n",
       "      <td>United Kingdom</td>\n",
       "      <td>GBR</td>\n",
       "      <td>Arms exports (SIPRI trend indicator values)</td>\n",
       "      <td>MS.MIL.XPRT.KD</td>\n",
       "      <td>1990</td>\n",
       "      <td>1.877000e+09</td>\n",
       "    </tr>\n",
       "    <tr>\n",
       "      <th>4462962</th>\n",
       "      <td>Germany</td>\n",
       "      <td>DEU</td>\n",
       "      <td>Arms exports (SIPRI trend indicator values)</td>\n",
       "      <td>MS.MIL.XPRT.KD</td>\n",
       "      <td>1990</td>\n",
       "      <td>1.834000e+09</td>\n",
       "    </tr>\n",
       "  </tbody>\n",
       "</table>\n",
       "</div>"
      ],
      "text/plain": [
       "                CountryName CountryCode  \\\n",
       "4696661       United States         USA   \n",
       "4694834       United States         USA   \n",
       "4685231       United States         USA   \n",
       "4676393       United States         USA   \n",
       "4675317       United States         USA   \n",
       "4673572       United States         USA   \n",
       "4670520       United States         USA   \n",
       "4670076       United States         USA   \n",
       "4556602  Russian Federation         RUS   \n",
       "4544913  Russian Federation         RUS   \n",
       "4544264      United Kingdom         GBR   \n",
       "4541527  Russian Federation         RUS   \n",
       "4513924             Germany         DEU   \n",
       "4507509  Russian Federation         RUS   \n",
       "4502729             Germany         DEU   \n",
       "4486259              France         FRA   \n",
       "4472323             Germany         DEU   \n",
       "4467214              France         FRA   \n",
       "4465903      United Kingdom         GBR   \n",
       "4462962             Germany         DEU   \n",
       "\n",
       "                                       IndicatorName   IndicatorCode  Year  \\\n",
       "4696661  Arms exports (SIPRI trend indicator values)  MS.MIL.XPRT.KD  1992   \n",
       "4694834  Arms exports (SIPRI trend indicator values)  MS.MIL.XPRT.KD  1993   \n",
       "4685231  Arms exports (SIPRI trend indicator values)  MS.MIL.XPRT.KD  1991   \n",
       "4676393  Arms exports (SIPRI trend indicator values)  MS.MIL.XPRT.KD  1994   \n",
       "4675317  Arms exports (SIPRI trend indicator values)  MS.MIL.XPRT.KD  1989   \n",
       "4673572  Arms exports (SIPRI trend indicator values)  MS.MIL.XPRT.KD  1995   \n",
       "4670520  Arms exports (SIPRI trend indicator values)  MS.MIL.XPRT.KD  1996   \n",
       "4670076  Arms exports (SIPRI trend indicator values)  MS.MIL.XPRT.KD  1990   \n",
       "4556602  Arms exports (SIPRI trend indicator values)  MS.MIL.XPRT.KD  1995   \n",
       "4544913  Arms exports (SIPRI trend indicator values)  MS.MIL.XPRT.KD  1996   \n",
       "4544264  Arms exports (SIPRI trend indicator values)  MS.MIL.XPRT.KD  1989   \n",
       "4541527  Arms exports (SIPRI trend indicator values)  MS.MIL.XPRT.KD  1993   \n",
       "4513924  Arms exports (SIPRI trend indicator values)  MS.MIL.XPRT.KD  1994   \n",
       "4507509  Arms exports (SIPRI trend indicator values)  MS.MIL.XPRT.KD  1992   \n",
       "4502729  Arms exports (SIPRI trend indicator values)  MS.MIL.XPRT.KD  1991   \n",
       "4486259  Arms exports (SIPRI trend indicator values)  MS.MIL.XPRT.KD  1989   \n",
       "4472323  Arms exports (SIPRI trend indicator values)  MS.MIL.XPRT.KD  1996   \n",
       "4467214  Arms exports (SIPRI trend indicator values)  MS.MIL.XPRT.KD  1996   \n",
       "4465903  Arms exports (SIPRI trend indicator values)  MS.MIL.XPRT.KD  1990   \n",
       "4462962  Arms exports (SIPRI trend indicator values)  MS.MIL.XPRT.KD  1990   \n",
       "\n",
       "                Value  \n",
       "4696661  1.410700e+10  \n",
       "4694834  1.383600e+10  \n",
       "4685231  1.254000e+10  \n",
       "4676393  1.146100e+10  \n",
       "4675317  1.134200e+10  \n",
       "4673572  1.114600e+10  \n",
       "4670520  1.080800e+10  \n",
       "4670076  1.076200e+10  \n",
       "4556602  3.900000e+09  \n",
       "4544913  3.539000e+09  \n",
       "4544264  3.520000e+09  \n",
       "4541527  3.442000e+09  \n",
       "4513924  2.751000e+09  \n",
       "4507509  2.613000e+09  \n",
       "4502729  2.516000e+09  \n",
       "4486259  2.207000e+09  \n",
       "4472323  1.974000e+09  \n",
       "4467214  1.896000e+09  \n",
       "4465903  1.877000e+09  \n",
       "4462962  1.834000e+09  "
      ]
     },
     "execution_count": 88,
     "metadata": {},
     "output_type": "execute_result"
    }
   ],
   "source": [
    "arms_range2"
   ]
  },
  {
   "cell_type": "markdown",
   "metadata": {},
   "source": [
    "### Histogram of Top 20 contributors from 1989-1996"
   ]
  },
  {
   "cell_type": "code",
   "execution_count": 119,
   "metadata": {},
   "outputs": [
    {
     "data": {
      "image/png": "[encoded data removed]",
      "text/plain": [
       "<matplotlib.figure.Figure at 0x114bfb240>"
      ]
     },
     "metadata": {},
     "output_type": "display_data"
    }
   ],
   "source": [
    "# let's plot a histogram of the arms exported per capita by country\n",
    "\n",
    "# subplots returns a touple with the figure, axis attributes.\n",
    "fig, ax = plt.subplots()\n",
    "\n",
    "ax.annotate(\"USA\",\n",
    "            xy=(10e9, 5), xycoords='data',\n",
    "            xytext=(8e9, 5), textcoords='data',\n",
    "            arrowprops=dict(arrowstyle=\"->\",\n",
    "                            connectionstyle=\"arc3\"),\n",
    "            )\n",
    "\n",
    "plt.hist(arms_range2['Value'], 10, normed=False, facecolor='green')\n",
    "\n",
    "plt.xlabel(arms_range2['IndicatorName'].iloc[0])\n",
    "plt.ylabel('# of Countries (duplicated each year)')\n",
    "plt.title('Histogram of Arms exported Per Capita (1973-1981)')\n",
    "\n",
    "plt.axis([0, 1.5e10, 0, 20])\n",
    "plt.grid(True)\n",
    "\n",
    "ax = plt.gca()\n",
    "ax.xaxis.get_major_formatter().set_scientific(False)\n",
    "\n",
    "def millions(x, pos):\n",
    "    'The two args are the value and tick position'\n",
    "    return '{:.0f}M'.format(x*1e-9)\n",
    "\n",
    "formatter = FuncFormatter(millions)\n",
    "\n",
    "ax.xaxis.set_major_formatter(formatter)\n",
    "\n",
    "\n",
    "plt.show()"
   ]
  },
  {
   "cell_type": "markdown",
   "metadata": {},
   "source": [
    "## Histogram of arms exports per capita by country"
   ]
  },
  {
   "cell_type": "code",
   "execution_count": 52,
   "metadata": {},
   "outputs": [
    {
     "data": {
      "image/png": "[encoded data removed]",
      "text/plain": [
       "<matplotlib.figure.Figure at 0x116a28668>"
      ]
     },
     "metadata": {},
     "output_type": "display_data"
    }
   ],
   "source": [
    "# let's plot a histogram of the arms exported per capita by country\n",
    "\n",
    "# subplots returns a touple with the figure, axis attributes.\n",
    "fig, ax = plt.subplots()\n",
    "\n",
    "ax.annotate(\"USA\",\n",
    "            xy=(12e9, 25), xycoords='data',\n",
    "            xytext=(6e9, 500), textcoords='data',\n",
    "            arrowprops=dict(arrowstyle=\"->\",\n",
    "                            connectionstyle=\"arc3\"),\n",
    "            )\n",
    "\n",
    "plt.hist(arms_stage['Value'], 10, normed=False, facecolor='green')\n",
    "\n",
    "plt.xlabel(arms_stage['IndicatorName'].iloc[0])\n",
    "plt.ylabel('# of Countries (duplicated each year)')\n",
    "plt.title('Histogram of Arms exported Per Capita (1960-2014)')\n",
    "\n",
    "plt.axis([0, 1.5e10, 0, 2000])\n",
    "plt.grid(True)\n",
    "\n",
    "ax = plt.gca()\n",
    "ax.xaxis.get_major_formatter().set_scientific(False)\n",
    "\n",
    "def millions(x, pos):\n",
    "    'The two args are the value and tick position'\n",
    "    return '{:.0f}M'.format(x*1e-9)\n",
    "\n",
    "formatter = FuncFormatter(millions)\n",
    "\n",
    "ax.xaxis.set_major_formatter(formatter)\n",
    "\n",
    "\n",
    "plt.show()"
   ]
  },
  {
   "cell_type": "code",
   "execution_count": 34,
   "metadata": {},
   "outputs": [
    {
     "name": "stdout",
     "output_type": "stream",
     "text": [
      "2024\n"
     ]
    }
   ],
   "source": [
    "print(len(arms_stage))"
   ]
  },
  {
   "cell_type": "markdown",
   "metadata": {},
   "source": [
    "##### So the USA, at ~12M arms is an outlier, as most countries have 0-1M arms exported from 1960-2014"
   ]
  },
  {
   "cell_type": "markdown",
   "metadata": {},
   "source": [
    "## Relationship between Death rate and Arms Exports in the USA"
   ]
  },
  {
   "cell_type": "code",
   "execution_count": 50,
   "metadata": {
    "collapsed": true
   },
   "outputs": [],
   "source": [
    "# select GDP Per capita emissions for the United States\n",
    "hist_indicator = 'Death rate, crude \\(p'\n",
    "hist_country = 'USA'\n",
    "\n",
    "mask1 = data['IndicatorName'].str.contains(hist_indicator) \n",
    "mask2 = data['CountryCode'].str.contains(hist_country)\n",
    "\n",
    "# stage is just those indicators matching the USA for country code and CO2 emissions over time.\n",
    "#gdp_stage = data[mask1 & mask2]\n",
    "gdp_stage = data[mask1]\n",
    "usa_death = data[mask1 & mask2]\n",
    "\n",
    "#plot gdp_stage vs stage"
   ]
  },
  {
   "cell_type": "code",
   "execution_count": 41,
   "metadata": {},
   "outputs": [
    {
     "data": {
      "text/html": [
       "<div>\n",
       "<style>\n",
       "    .dataframe thead tr:only-child th {\n",
       "        text-align: right;\n",
       "    }\n",
       "\n",
       "    .dataframe thead th {\n",
       "        text-align: left;\n",
       "    }\n",
       "\n",
       "    .dataframe tbody tr th {\n",
       "        vertical-align: top;\n",
       "    }\n",
       "</style>\n",
       "<table border=\"1\" class=\"dataframe\">\n",
       "  <thead>\n",
       "    <tr style=\"text-align: right;\">\n",
       "      <th></th>\n",
       "      <th>CountryName</th>\n",
       "      <th>CountryCode</th>\n",
       "      <th>IndicatorName</th>\n",
       "      <th>IndicatorCode</th>\n",
       "      <th>Year</th>\n",
       "      <th>Value</th>\n",
       "    </tr>\n",
       "  </thead>\n",
       "  <tbody>\n",
       "    <tr>\n",
       "      <th>13</th>\n",
       "      <td>Arab World</td>\n",
       "      <td>ARB</td>\n",
       "      <td>Death rate, crude (per 1,000 people)</td>\n",
       "      <td>SP.DYN.CDRT.IN</td>\n",
       "      <td>1960</td>\n",
       "      <td>19.754452</td>\n",
       "    </tr>\n",
       "    <tr>\n",
       "      <th>91</th>\n",
       "      <td>Caribbean small states</td>\n",
       "      <td>CSS</td>\n",
       "      <td>Death rate, crude (per 1,000 people)</td>\n",
       "      <td>SP.DYN.CDRT.IN</td>\n",
       "      <td>1960</td>\n",
       "      <td>9.813167</td>\n",
       "    </tr>\n",
       "  </tbody>\n",
       "</table>\n",
       "</div>"
      ],
      "text/plain": [
       "               CountryName CountryCode                         IndicatorName  \\\n",
       "13              Arab World         ARB  Death rate, crude (per 1,000 people)   \n",
       "91  Caribbean small states         CSS  Death rate, crude (per 1,000 people)   \n",
       "\n",
       "     IndicatorCode  Year      Value  \n",
       "13  SP.DYN.CDRT.IN  1960  19.754452  \n",
       "91  SP.DYN.CDRT.IN  1960   9.813167  "
      ]
     },
     "execution_count": 41,
     "metadata": {},
     "output_type": "execute_result"
    }
   ],
   "source": [
    "gdp_stage.head(2)"
   ]
  },
  {
   "cell_type": "code",
   "execution_count": 42,
   "metadata": {},
   "outputs": [
    {
     "data": {
      "text/html": [
       "<div>\n",
       "<style>\n",
       "    .dataframe thead tr:only-child th {\n",
       "        text-align: right;\n",
       "    }\n",
       "\n",
       "    .dataframe thead th {\n",
       "        text-align: left;\n",
       "    }\n",
       "\n",
       "    .dataframe tbody tr th {\n",
       "        vertical-align: top;\n",
       "    }\n",
       "</style>\n",
       "<table border=\"1\" class=\"dataframe\">\n",
       "  <thead>\n",
       "    <tr style=\"text-align: right;\">\n",
       "      <th></th>\n",
       "      <th>CountryName</th>\n",
       "      <th>CountryCode</th>\n",
       "      <th>IndicatorName</th>\n",
       "      <th>IndicatorCode</th>\n",
       "      <th>Year</th>\n",
       "      <th>Value</th>\n",
       "    </tr>\n",
       "  </thead>\n",
       "  <tbody>\n",
       "    <tr>\n",
       "      <th>19360</th>\n",
       "      <td>United States</td>\n",
       "      <td>USA</td>\n",
       "      <td>Arms exports (SIPRI trend indicator values)</td>\n",
       "      <td>MS.MIL.XPRT.KD</td>\n",
       "      <td>1960</td>\n",
       "      <td>5.961000e+09</td>\n",
       "    </tr>\n",
       "    <tr>\n",
       "      <th>42551</th>\n",
       "      <td>United States</td>\n",
       "      <td>USA</td>\n",
       "      <td>Arms exports (SIPRI trend indicator values)</td>\n",
       "      <td>MS.MIL.XPRT.KD</td>\n",
       "      <td>1961</td>\n",
       "      <td>6.376000e+09</td>\n",
       "    </tr>\n",
       "  </tbody>\n",
       "</table>\n",
       "</div>"
      ],
      "text/plain": [
       "         CountryName CountryCode                                IndicatorName  \\\n",
       "19360  United States         USA  Arms exports (SIPRI trend indicator values)   \n",
       "42551  United States         USA  Arms exports (SIPRI trend indicator values)   \n",
       "\n",
       "        IndicatorCode  Year         Value  \n",
       "19360  MS.MIL.XPRT.KD  1960  5.961000e+09  \n",
       "42551  MS.MIL.XPRT.KD  1961  6.376000e+09  "
      ]
     },
     "execution_count": 42,
     "metadata": {},
     "output_type": "execute_result"
    }
   ],
   "source": [
    "usa_stage.head(2)"
   ]
  },
  {
   "cell_type": "code",
   "execution_count": 71,
   "metadata": {},
   "outputs": [
    {
     "data": {
      "image/png": "[encoded data removed]",
      "text/plain": [
       "<matplotlib.figure.Figure at 0x1169e44e0>"
      ]
     },
     "metadata": {},
     "output_type": "display_data"
    }
   ],
   "source": [
    "\n",
    "# switch to a line plot\n",
    "plt.plot(gdp_stage['Year'].values, gdp_stage['Value'].values)\n",
    "\n",
    "# Label the axes\n",
    "plt.xlabel('Year')\n",
    "plt.ylabel(gdp_stage['IndicatorName'].iloc[0])\n",
    "\n",
    "#label the figure\n",
    "plt.title('Death Rate Per Capita')\n",
    "\n",
    "# to make more honest, start they y axis at 0\n",
    "plt.axis([1959, 2014,0,60])\n",
    "\n",
    "plt.show()"
   ]
  },
  {
   "cell_type": "code",
   "execution_count": 72,
   "metadata": {},
   "outputs": [
    {
     "data": {
      "image/png": "[encoded data removed]",
      "text/plain": [
       "<matplotlib.figure.Figure at 0x116100550>"
      ]
     },
     "metadata": {},
     "output_type": "display_data"
    }
   ],
   "source": [
    "# switch to a line plot\n",
    "plt.plot(usa_death['Year'].values, usa_death['Value'].values)\n",
    "\n",
    "# Label the axes\n",
    "plt.xlabel('Year')\n",
    "plt.ylabel(usa_death['IndicatorName'].iloc[0])\n",
    "\n",
    "#label the figure\n",
    "plt.title('USA Death Rate Per Capita')\n",
    "\n",
    "# to make more honest, start they y axis at 0\n",
    "plt.axis([1959, 2014,0,60])\n",
    "\n",
    "plt.show()"
   ]
  },
  {
   "cell_type": "code",
   "execution_count": null,
   "metadata": {
    "collapsed": true
   },
   "outputs": [],
   "source": []
  }
 ],
 "metadata": {
  "kernelspec": {
   "display_name": "Python 3",
   "language": "python",
   "name": "python3"
  },
  "language_info": {
   "codemirror_mode": {
    "name": "ipython",
    "version": 3
   },
   "file_extension": ".py",
   "mimetype": "text/x-python",
   "name": "python",
   "nbconvert_exporter": "python",
   "pygments_lexer": "ipython3",
   "version": "3.6.1"
  }
 },
 "nbformat": 4,
 "nbformat_minor": 2
}
